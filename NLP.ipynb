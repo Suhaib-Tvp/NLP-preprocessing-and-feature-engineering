{
  "nbformat": 4,
  "nbformat_minor": 0,
  "metadata": {
    "colab": {
      "provenance": []
    },
    "kernelspec": {
      "name": "python3",
      "display_name": "Python 3"
    },
    "language_info": {
      "name": "python"
    }
  },
  "cells": [
    {
      "cell_type": "markdown",
      "source": [
        "\n",
        "# **NLP ASSIGNMENT**\n",
        "\n",
        "---\n",
        "\n",
        "\n",
        "\n",
        "\n",
        "\n",
        "NEWSPAPER ARTICLE:\n",
        "\n",
        "\n",
        "\n",
        "\n",
        "# **Kerala Police, the club that changed Kerala football, completes 40 years**\n",
        "AUTHOR :      **M. R. Praveen Chandran**\n",
        "\n",
        "PUBLICATION DATE :   February 14, 2025\n",
        "\n",
        "URL : https://www.thehindu.com/sport/football/kerala-police-the-club-that-changed-kerala-football-completes-40-years/article69219576.ece"
      ],
      "metadata": {
        "id": "MFKuBSrJhYbf"
      }
    },
    {
      "cell_type": "markdown",
      "source": [
        "\n",
        "\n",
        "---\n",
        "\n"
      ],
      "metadata": {
        "id": "fQhOeWvAu7UM"
      }
    },
    {
      "cell_type": "markdown",
      "source": [
        "# **LIBRARIES AND NLTK DATASET**\n",
        "\n",
        "The code imports essential NLP libraries for text preprocessing and feature extraction. It includes tokenization, stopword removal, lemmatization, and vectorization techniques like Bag of Words (BoW), TF-IDF, and Word2Vec. The necessary NLTK datasets are also downloaded for proper text processing"
      ],
      "metadata": {
        "id": "dh9smJTquWGi"
      }
    },
    {
      "cell_type": "code",
      "execution_count": null,
      "metadata": {
        "colab": {
          "base_uri": "https://localhost:8080/"
        },
        "id": "SKGppZ_fdYte",
        "outputId": "7358afdc-4b8d-48ae-a61b-929a1d0c44d3"
      },
      "outputs": [
        {
          "output_type": "stream",
          "name": "stderr",
          "text": [
            "[nltk_data] Downloading package punkt to /root/nltk_data...\n",
            "[nltk_data]   Package punkt is already up-to-date!\n",
            "[nltk_data] Downloading package stopwords to /root/nltk_data...\n",
            "[nltk_data]   Package stopwords is already up-to-date!\n",
            "[nltk_data] Downloading package wordnet to /root/nltk_data...\n",
            "[nltk_data]   Package wordnet is already up-to-date!\n"
          ]
        },
        {
          "output_type": "execute_result",
          "data": {
            "text/plain": [
              "True"
            ]
          },
          "metadata": {},
          "execution_count": 24
        }
      ],
      "source": [
        "import nltk\n",
        "import pandas as pd\n",
        "import numpy as np\n",
        "import re\n",
        "import string\n",
        "from nltk.tokenize import word_tokenize, sent_tokenize\n",
        "from nltk.corpus import stopwords\n",
        "from nltk.stem import WordNetLemmatizer\n",
        "from sklearn.feature_extraction.text import CountVectorizer, TfidfVectorizer\n",
        "from gensim.models import Word2Vec\n",
        "\n",
        "nltk.download('punkt')\n",
        "nltk.download('stopwords')\n",
        "nltk.download('wordnet')"
      ]
    },
    {
      "cell_type": "code",
      "source": [
        "article_link=\"https://www.thehindu.com/sport/football/kerala-police-the-club-that-changed-kerala-football-completes-40-years/article69219576.ece\"\n",
        "\n",
        "article_text = \"\"\"\n",
        "Kerala Police Football Club, a team that once dominated Indian football, has completed 40 years.\n",
        "Established in 1984, the club was instrumental in developing football talent in Kerala.\n",
        "Over the years, it has produced several national and international players.\n",
        "Despite its decline in recent years, its legacy remains strong.\n",
        "\"\"\"\n"
      ],
      "metadata": {
        "id": "hKUU1_U7eUWQ"
      },
      "execution_count": null,
      "outputs": []
    },
    {
      "cell_type": "markdown",
      "source": [
        "## Text Preprocessing Steps\n",
        "\n",
        "### 1. Tokenization\n",
        "Splits text into sentences and words for easier analysis.\n",
        "\n",
        "### 2. Stopword Removal\n",
        "Removes common words like *\"the,\" \"is,\"* to focus on meaningful terms.\n",
        "\n",
        "### 3. Normalization\n",
        "Standardizes text for consistency.\n",
        "- **Lowercasing**: Converts text to lowercase.\n",
        "- **Removing Punctuation**: Eliminates unnecessary symbols.\n",
        "- **Stemming**: Reduces words to root form.\n",
        "- **Lemmatization**: Converts words to their dictionary form.\n",
        "\n",
        "These steps clean and prepare text for NLP tasks like classification and sentiment analysis. 🚀"
      ],
      "metadata": {
        "id": "Fj-Kc029rf4P"
      }
    },
    {
      "cell_type": "code",
      "source": [
        "\n",
        "\n",
        "def preprocess_text(text):\n",
        "    sentences = sent_tokenize(text)\n",
        "    words = word_tokenize(text.lower())\n",
        "    words = [word for word in words if word.isalpha()]\n",
        "    stop_words = set(stopwords.words('english'))\n",
        "    words = [word for word in words if word not in stop_words]\n",
        "    lemmatizer = WordNetLemmatizer()\n",
        "    words = [lemmatizer.lemmatize(word) for word in words]\n",
        "    return sentences, words\n",
        "\n",
        "sentences, words = preprocess_text(article_text)\n"
      ],
      "metadata": {
        "id": "y0vPmYNWeYVo"
      },
      "execution_count": null,
      "outputs": []
    },
    {
      "cell_type": "markdown",
      "source": [
        "## Feature Extraction\n",
        "\n",
        "### Bag of Words (BoW)\n",
        "A representation is created where each unique word in the article corresponds to a feature, and the value is the word's frequency in the text.\n",
        "\n",
        "### TF-IDF (Term Frequency-Inverse Document Frequency)\n",
        "This method assigns a weight to each word based on its frequency in the article and its occurrence across a larger corpus, emphasizing words that are unique to the article.\n",
        "\n",
        "### Word Embeddings\n",
        "Pre-trained models like Word2Vec or GloVe are used to convert words into continuous vector representations, capturing semantic relationships between words.\n",
        "\n"
      ],
      "metadata": {
        "id": "ZEfwE2cAoeHM"
      }
    },
    {
      "cell_type": "code",
      "source": [
        "\n",
        "\n",
        "vectorizer = CountVectorizer()\n",
        "bow_matrix = vectorizer.fit_transform([article_text])\n",
        "\n",
        "\n",
        "tfidf_vectorizer = TfidfVectorizer()\n",
        "tfidf_matrix = tfidf_vectorizer.fit_transform([article_text])\n",
        "\n",
        "\n",
        "split_sentences = [word_tokenize(sent.lower()) for sent in sentences]\n",
        "word2vec_model = Word2Vec(sentences=split_sentences, vector_size=100, window=5, min_count=1, workers=4)\n",
        "\n",
        "\n",
        "print(\"Tokenized Sentences:\", sentences)\n"
      ],
      "metadata": {
        "colab": {
          "base_uri": "https://localhost:8080/"
        },
        "id": "BAS79vv_eI3u",
        "outputId": "c9075e40-30b9-43ab-ec6d-10c99f8c6d2e"
      },
      "execution_count": null,
      "outputs": [
        {
          "output_type": "stream",
          "name": "stdout",
          "text": [
            "Tokenized Sentences: ['\\nKerala Police Football Club, a team that once dominated Indian football, has completed 40 years.', 'Established in 1984, the club was instrumental in developing football talent in Kerala.', 'Over the years, it has produced several national and international players.', 'Despite its decline in recent years, its legacy remains strong.']\n"
          ]
        }
      ]
    },
    {
      "cell_type": "code",
      "source": [
        "print(\"Tokenized Words:\", words)"
      ],
      "metadata": {
        "colab": {
          "base_uri": "https://localhost:8080/"
        },
        "id": "I97JNhCVewoA",
        "outputId": "8853b46f-858c-4593-e515-11733dcdc7ac"
      },
      "execution_count": null,
      "outputs": [
        {
          "output_type": "stream",
          "name": "stdout",
          "text": [
            "Tokenized Words: ['kerala', 'police', 'football', 'club', 'team', 'dominated', 'indian', 'football', 'completed', 'year', 'established', 'club', 'instrumental', 'developing', 'football', 'talent', 'kerala', 'year', 'produced', 'several', 'national', 'international', 'player', 'despite', 'decline', 'recent', 'year', 'legacy', 'remains', 'strong']\n"
          ]
        }
      ]
    },
    {
      "cell_type": "code",
      "source": [
        "print(\"Bag of Words Matrix:\", bow_matrix.toarray())"
      ],
      "metadata": {
        "colab": {
          "base_uri": "https://localhost:8080/"
        },
        "id": "OdUdcxSCe0fv",
        "outputId": "4143ca0d-f47b-4c81-a363-11a1860a1f8a"
      },
      "execution_count": null,
      "outputs": [
        {
          "output_type": "stream",
          "name": "stdout",
          "text": [
            "Bag of Words Matrix: [[1 1 1 2 1 1 1 1 1 1 3 2 4 1 1 1 1 2 2 1 1 1 1 1 1 1 1 1 1 1 1 1 1 2 1 3]]\n"
          ]
        }
      ]
    },
    {
      "cell_type": "code",
      "source": [
        "print(\"TF-IDF Matrix:\", tfidf_matrix.toarray())"
      ],
      "metadata": {
        "colab": {
          "base_uri": "https://localhost:8080/"
        },
        "id": "FpiX5UTke4Rz",
        "outputId": "73c42a7d-d039-49dd-9bf3-29a071213be6"
      },
      "execution_count": null,
      "outputs": [
        {
          "output_type": "stream",
          "name": "stdout",
          "text": [
            "TF-IDF Matrix: [[0.11043153 0.11043153 0.11043153 0.22086305 0.11043153 0.11043153\n",
            "  0.11043153 0.11043153 0.11043153 0.11043153 0.33129458 0.22086305\n",
            "  0.4417261  0.11043153 0.11043153 0.11043153 0.11043153 0.22086305\n",
            "  0.22086305 0.11043153 0.11043153 0.11043153 0.11043153 0.11043153\n",
            "  0.11043153 0.11043153 0.11043153 0.11043153 0.11043153 0.11043153\n",
            "  0.11043153 0.11043153 0.11043153 0.22086305 0.11043153 0.33129458]]\n"
          ]
        }
      ]
    },
    {
      "cell_type": "code",
      "source": [
        "print(\"Word2Vec Embeddings for 'football':\", word2vec_model.wv['football'] if 'football' in word2vec_model.wv else \"Word not in vocabulary\")"
      ],
      "metadata": {
        "colab": {
          "base_uri": "https://localhost:8080/"
        },
        "id": "kRCFvUQvfAH-",
        "outputId": "a81cd162-8603-42ec-cb1d-15470220f6cb"
      },
      "execution_count": null,
      "outputs": [
        {
          "output_type": "stream",
          "name": "stdout",
          "text": [
            "Word2Vec Embeddings for 'football': [-8.2449932e-03  9.3032960e-03 -1.9435120e-04 -1.9615653e-03\n",
            "  4.5979968e-03 -4.0953797e-03  2.7458109e-03  6.9412082e-03\n",
            "  6.0599227e-03 -7.5128912e-03  9.3825497e-03  4.6699927e-03\n",
            "  3.9697248e-03 -6.2444285e-03  8.4596714e-03 -2.1519361e-03\n",
            "  8.8297203e-03 -5.3620818e-03 -8.1368443e-03  6.8161474e-03\n",
            "  1.6699719e-03 -2.1938260e-03  9.5173549e-03  9.4939582e-03\n",
            " -9.7785098e-03  2.5074184e-03  6.1565721e-03  3.8762903e-03\n",
            "  2.0179332e-03  4.3496725e-04  6.7087886e-04 -3.8227234e-03\n",
            " -7.1397214e-03 -2.0944946e-03  3.9195465e-03  8.8242898e-03\n",
            "  9.2622004e-03 -5.9794304e-03 -9.4106374e-03  9.7682690e-03\n",
            "  3.4343270e-03  5.1664016e-03  6.2780855e-03 -2.8032593e-03\n",
            "  7.3288158e-03  2.8277836e-03  2.8664449e-03 -2.3826386e-03\n",
            " -3.1261863e-03 -2.3702518e-03  4.2738700e-03  7.4612566e-05\n",
            " -9.5841512e-03 -9.6675111e-03 -6.1543523e-03 -1.2690233e-04\n",
            "  1.9979668e-03  9.4299689e-03  5.5822302e-03 -4.2891121e-03\n",
            "  2.8279398e-04  4.9595670e-03  7.6995669e-03 -1.1436141e-03\n",
            "  4.3249978e-03 -5.8118920e-03 -8.0856704e-04  8.1062876e-03\n",
            " -2.3643011e-03 -9.6651772e-03  5.7803206e-03 -3.9258045e-03\n",
            " -1.2206228e-03  9.9796355e-03 -2.2576780e-03 -4.7518853e-03\n",
            " -5.3248536e-03  6.9815610e-03 -5.7088998e-03  2.1122349e-03\n",
            " -5.2593155e-03  6.1184759e-03  4.3557221e-03  2.6082799e-03\n",
            " -1.4956382e-03 -2.7485224e-03  8.9956969e-03  5.2185315e-03\n",
            " -2.1574078e-03 -9.4677247e-03 -7.4263527e-03 -1.0612945e-03\n",
            " -8.0014276e-04 -2.5649844e-03  9.6868314e-03 -4.5839458e-04\n",
            "  5.8745313e-03 -7.4510206e-03 -2.5017075e-03 -5.5496502e-03]\n"
          ]
        }
      ]
    },
    {
      "cell_type": "code",
      "source": [
        "print(\"Article Link:\", article_link)"
      ],
      "metadata": {
        "colab": {
          "base_uri": "https://localhost:8080/"
        },
        "id": "_Ay-K4i3lmfa",
        "outputId": "fd8dc1f8-dc41-48d1-c497-b0dcd9dbf3ec"
      },
      "execution_count": null,
      "outputs": [
        {
          "output_type": "stream",
          "name": "stdout",
          "text": [
            "Article Link: https://www.thehindu.com/sport/football/kerala-police-the-club-that-changed-kerala-football-completes-40-years/article69219576.ece\n"
          ]
        }
      ]
    }
  ]
}